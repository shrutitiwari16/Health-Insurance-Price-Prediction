{
 "cells": [
  {
   "cell_type": "code",
   "execution_count": 2,
   "id": "3f69be0a",
   "metadata": {},
   "outputs": [],
   "source": [
    "import pandas as pd\n",
    "import numpy as np\n",
    "from sklearn.linear_model import LinearRegression"
   ]
  },
  {
   "cell_type": "code",
   "execution_count": null,
   "id": "d9809f92",
   "metadata": {},
   "outputs": [],
   "source": [
    "data = pd.read_csv(\"insurance.csv\")\n",
    "data"
   ]
  },
  {
   "cell_type": "code",
   "execution_count": 4,
   "id": "df279202",
   "metadata": {},
   "outputs": [],
   "source": [
    "data[\"sex\"] = np.where(data['sex'] == \"female\",1, 0)      #female = 1,    male = 0\n",
    "data[\"smoker\"]=np.where(data['smoker']== \"yes\", 1, 0)       #yes = 1,       no = 0\n",
    "data['region']=np.where(data['region'] == \"southwest\", 1, 0) #southwest = 1, northwest = 0"
   ]
  },
  {
   "cell_type": "code",
   "execution_count": 5,
   "id": "63da150b",
   "metadata": {},
   "outputs": [
    {
     "data": {
      "text/html": [
       "<div>\n",
       "<style scoped>\n",
       "    .dataframe tbody tr th:only-of-type {\n",
       "        vertical-align: middle;\n",
       "    }\n",
       "\n",
       "    .dataframe tbody tr th {\n",
       "        vertical-align: top;\n",
       "    }\n",
       "\n",
       "    .dataframe thead th {\n",
       "        text-align: right;\n",
       "    }\n",
       "</style>\n",
       "<table border=\"1\" class=\"dataframe\">\n",
       "  <thead>\n",
       "    <tr style=\"text-align: right;\">\n",
       "      <th></th>\n",
       "      <th>age</th>\n",
       "      <th>sex</th>\n",
       "      <th>bmi</th>\n",
       "      <th>children</th>\n",
       "      <th>smoker</th>\n",
       "      <th>region</th>\n",
       "      <th>charges</th>\n",
       "    </tr>\n",
       "  </thead>\n",
       "  <tbody>\n",
       "    <tr>\n",
       "      <th>0</th>\n",
       "      <td>19</td>\n",
       "      <td>1</td>\n",
       "      <td>27.900</td>\n",
       "      <td>0</td>\n",
       "      <td>1</td>\n",
       "      <td>1</td>\n",
       "      <td>16884.92400</td>\n",
       "    </tr>\n",
       "    <tr>\n",
       "      <th>1</th>\n",
       "      <td>18</td>\n",
       "      <td>0</td>\n",
       "      <td>33.770</td>\n",
       "      <td>1</td>\n",
       "      <td>0</td>\n",
       "      <td>0</td>\n",
       "      <td>1725.55230</td>\n",
       "    </tr>\n",
       "    <tr>\n",
       "      <th>2</th>\n",
       "      <td>28</td>\n",
       "      <td>0</td>\n",
       "      <td>33.000</td>\n",
       "      <td>3</td>\n",
       "      <td>0</td>\n",
       "      <td>0</td>\n",
       "      <td>4449.46200</td>\n",
       "    </tr>\n",
       "    <tr>\n",
       "      <th>3</th>\n",
       "      <td>33</td>\n",
       "      <td>0</td>\n",
       "      <td>22.705</td>\n",
       "      <td>0</td>\n",
       "      <td>0</td>\n",
       "      <td>0</td>\n",
       "      <td>21984.47061</td>\n",
       "    </tr>\n",
       "    <tr>\n",
       "      <th>4</th>\n",
       "      <td>32</td>\n",
       "      <td>0</td>\n",
       "      <td>28.880</td>\n",
       "      <td>0</td>\n",
       "      <td>0</td>\n",
       "      <td>0</td>\n",
       "      <td>3866.85520</td>\n",
       "    </tr>\n",
       "    <tr>\n",
       "      <th>...</th>\n",
       "      <td>...</td>\n",
       "      <td>...</td>\n",
       "      <td>...</td>\n",
       "      <td>...</td>\n",
       "      <td>...</td>\n",
       "      <td>...</td>\n",
       "      <td>...</td>\n",
       "    </tr>\n",
       "    <tr>\n",
       "      <th>1333</th>\n",
       "      <td>50</td>\n",
       "      <td>0</td>\n",
       "      <td>30.970</td>\n",
       "      <td>3</td>\n",
       "      <td>0</td>\n",
       "      <td>0</td>\n",
       "      <td>10600.54830</td>\n",
       "    </tr>\n",
       "    <tr>\n",
       "      <th>1334</th>\n",
       "      <td>18</td>\n",
       "      <td>1</td>\n",
       "      <td>31.920</td>\n",
       "      <td>0</td>\n",
       "      <td>0</td>\n",
       "      <td>0</td>\n",
       "      <td>2205.98080</td>\n",
       "    </tr>\n",
       "    <tr>\n",
       "      <th>1335</th>\n",
       "      <td>18</td>\n",
       "      <td>1</td>\n",
       "      <td>36.850</td>\n",
       "      <td>0</td>\n",
       "      <td>0</td>\n",
       "      <td>0</td>\n",
       "      <td>1629.83350</td>\n",
       "    </tr>\n",
       "    <tr>\n",
       "      <th>1336</th>\n",
       "      <td>21</td>\n",
       "      <td>1</td>\n",
       "      <td>25.800</td>\n",
       "      <td>0</td>\n",
       "      <td>0</td>\n",
       "      <td>1</td>\n",
       "      <td>2007.94500</td>\n",
       "    </tr>\n",
       "    <tr>\n",
       "      <th>1337</th>\n",
       "      <td>61</td>\n",
       "      <td>1</td>\n",
       "      <td>29.070</td>\n",
       "      <td>0</td>\n",
       "      <td>1</td>\n",
       "      <td>0</td>\n",
       "      <td>29141.36030</td>\n",
       "    </tr>\n",
       "  </tbody>\n",
       "</table>\n",
       "<p>1338 rows × 7 columns</p>\n",
       "</div>"
      ],
      "text/plain": [
       "      age  sex     bmi  children  smoker  region      charges\n",
       "0      19    1  27.900         0       1       1  16884.92400\n",
       "1      18    0  33.770         1       0       0   1725.55230\n",
       "2      28    0  33.000         3       0       0   4449.46200\n",
       "3      33    0  22.705         0       0       0  21984.47061\n",
       "4      32    0  28.880         0       0       0   3866.85520\n",
       "...   ...  ...     ...       ...     ...     ...          ...\n",
       "1333   50    0  30.970         3       0       0  10600.54830\n",
       "1334   18    1  31.920         0       0       0   2205.98080\n",
       "1335   18    1  36.850         0       0       0   1629.83350\n",
       "1336   21    1  25.800         0       0       1   2007.94500\n",
       "1337   61    1  29.070         0       1       0  29141.36030\n",
       "\n",
       "[1338 rows x 7 columns]"
      ]
     },
     "execution_count": 5,
     "metadata": {},
     "output_type": "execute_result"
    }
   ],
   "source": [
    "data"
   ]
  },
  {
   "cell_type": "code",
   "execution_count": 6,
   "id": "ca0e9551",
   "metadata": {},
   "outputs": [
    {
     "data": {
      "text/plain": [
       "1121.8739"
      ]
     },
     "execution_count": 6,
     "metadata": {},
     "output_type": "execute_result"
    }
   ],
   "source": [
    "data['charges'].min()"
   ]
  },
  {
   "cell_type": "code",
   "execution_count": null,
   "id": "4aa664a8",
   "metadata": {},
   "outputs": [],
   "source": []
  },
  {
   "cell_type": "code",
   "execution_count": 7,
   "id": "91d23cab",
   "metadata": {},
   "outputs": [
    {
     "data": {
      "text/plain": [
       "age         0\n",
       "sex         0\n",
       "bmi         0\n",
       "children    0\n",
       "smoker      0\n",
       "region      0\n",
       "charges     0\n",
       "dtype: int64"
      ]
     },
     "execution_count": 7,
     "metadata": {},
     "output_type": "execute_result"
    }
   ],
   "source": [
    "data.isnull().sum()"
   ]
  },
  {
   "cell_type": "code",
   "execution_count": 8,
   "id": "bc5f8763",
   "metadata": {},
   "outputs": [],
   "source": [
    "y = data[\"charges\"]\n",
    "x = data.iloc[:,:6]"
   ]
  },
  {
   "cell_type": "code",
   "execution_count": 9,
   "id": "b25be42a",
   "metadata": {},
   "outputs": [],
   "source": [
    "from sklearn.model_selection import train_test_split\n",
    "x_train, x_test, y_train,y_test = train_test_split(x,y, test_size = 0.30, random_state=43)"
   ]
  },
  {
   "cell_type": "code",
   "execution_count": 10,
   "id": "dda18fd0",
   "metadata": {},
   "outputs": [
    {
     "data": {
      "text/html": [
       "<style>#sk-container-id-1 {color: black;}#sk-container-id-1 pre{padding: 0;}#sk-container-id-1 div.sk-toggleable {background-color: white;}#sk-container-id-1 label.sk-toggleable__label {cursor: pointer;display: block;width: 100%;margin-bottom: 0;padding: 0.3em;box-sizing: border-box;text-align: center;}#sk-container-id-1 label.sk-toggleable__label-arrow:before {content: \"▸\";float: left;margin-right: 0.25em;color: #696969;}#sk-container-id-1 label.sk-toggleable__label-arrow:hover:before {color: black;}#sk-container-id-1 div.sk-estimator:hover label.sk-toggleable__label-arrow:before {color: black;}#sk-container-id-1 div.sk-toggleable__content {max-height: 0;max-width: 0;overflow: hidden;text-align: left;background-color: #f0f8ff;}#sk-container-id-1 div.sk-toggleable__content pre {margin: 0.2em;color: black;border-radius: 0.25em;background-color: #f0f8ff;}#sk-container-id-1 input.sk-toggleable__control:checked~div.sk-toggleable__content {max-height: 200px;max-width: 100%;overflow: auto;}#sk-container-id-1 input.sk-toggleable__control:checked~label.sk-toggleable__label-arrow:before {content: \"▾\";}#sk-container-id-1 div.sk-estimator input.sk-toggleable__control:checked~label.sk-toggleable__label {background-color: #d4ebff;}#sk-container-id-1 div.sk-label input.sk-toggleable__control:checked~label.sk-toggleable__label {background-color: #d4ebff;}#sk-container-id-1 input.sk-hidden--visually {border: 0;clip: rect(1px 1px 1px 1px);clip: rect(1px, 1px, 1px, 1px);height: 1px;margin: -1px;overflow: hidden;padding: 0;position: absolute;width: 1px;}#sk-container-id-1 div.sk-estimator {font-family: monospace;background-color: #f0f8ff;border: 1px dotted black;border-radius: 0.25em;box-sizing: border-box;margin-bottom: 0.5em;}#sk-container-id-1 div.sk-estimator:hover {background-color: #d4ebff;}#sk-container-id-1 div.sk-parallel-item::after {content: \"\";width: 100%;border-bottom: 1px solid gray;flex-grow: 1;}#sk-container-id-1 div.sk-label:hover label.sk-toggleable__label {background-color: #d4ebff;}#sk-container-id-1 div.sk-serial::before {content: \"\";position: absolute;border-left: 1px solid gray;box-sizing: border-box;top: 0;bottom: 0;left: 50%;z-index: 0;}#sk-container-id-1 div.sk-serial {display: flex;flex-direction: column;align-items: center;background-color: white;padding-right: 0.2em;padding-left: 0.2em;position: relative;}#sk-container-id-1 div.sk-item {position: relative;z-index: 1;}#sk-container-id-1 div.sk-parallel {display: flex;align-items: stretch;justify-content: center;background-color: white;position: relative;}#sk-container-id-1 div.sk-item::before, #sk-container-id-1 div.sk-parallel-item::before {content: \"\";position: absolute;border-left: 1px solid gray;box-sizing: border-box;top: 0;bottom: 0;left: 50%;z-index: -1;}#sk-container-id-1 div.sk-parallel-item {display: flex;flex-direction: column;z-index: 1;position: relative;background-color: white;}#sk-container-id-1 div.sk-parallel-item:first-child::after {align-self: flex-end;width: 50%;}#sk-container-id-1 div.sk-parallel-item:last-child::after {align-self: flex-start;width: 50%;}#sk-container-id-1 div.sk-parallel-item:only-child::after {width: 0;}#sk-container-id-1 div.sk-dashed-wrapped {border: 1px dashed gray;margin: 0 0.4em 0.5em 0.4em;box-sizing: border-box;padding-bottom: 0.4em;background-color: white;}#sk-container-id-1 div.sk-label label {font-family: monospace;font-weight: bold;display: inline-block;line-height: 1.2em;}#sk-container-id-1 div.sk-label-container {text-align: center;}#sk-container-id-1 div.sk-container {/* jupyter's `normalize.less` sets `[hidden] { display: none; }` but bootstrap.min.css set `[hidden] { display: none !important; }` so we also need the `!important` here to be able to override the default hidden behavior on the sphinx rendered scikit-learn.org. See: https://github.com/scikit-learn/scikit-learn/issues/21755 */display: inline-block !important;position: relative;}#sk-container-id-1 div.sk-text-repr-fallback {display: none;}</style><div id=\"sk-container-id-1\" class=\"sk-top-container\"><div class=\"sk-text-repr-fallback\"><pre>LinearRegression()</pre><b>In a Jupyter environment, please rerun this cell to show the HTML representation or trust the notebook. <br />On GitHub, the HTML representation is unable to render, please try loading this page with nbviewer.org.</b></div><div class=\"sk-container\" hidden><div class=\"sk-item\"><div class=\"sk-estimator sk-toggleable\"><input class=\"sk-toggleable__control sk-hidden--visually\" id=\"sk-estimator-id-1\" type=\"checkbox\" checked><label for=\"sk-estimator-id-1\" class=\"sk-toggleable__label sk-toggleable__label-arrow\">LinearRegression</label><div class=\"sk-toggleable__content\"><pre>LinearRegression()</pre></div></div></div></div></div>"
      ],
      "text/plain": [
       "LinearRegression()"
      ]
     },
     "execution_count": 10,
     "metadata": {},
     "output_type": "execute_result"
    }
   ],
   "source": [
    "lr = LinearRegression()\n",
    "lr.fit(x_train, y_train)"
   ]
  },
  {
   "cell_type": "code",
   "execution_count": 11,
   "id": "c4887b73",
   "metadata": {},
   "outputs": [
    {
     "data": {
      "text/plain": [
       "[238.02324312927846,\n",
       " 32.17025931452112,\n",
       " 306.43052457236246,\n",
       " 530.8016368006206,\n",
       " 23463.680182953653,\n",
       " -735.9569948826475]"
      ]
     },
     "execution_count": 11,
     "metadata": {},
     "output_type": "execute_result"
    }
   ],
   "source": [
    "w = lr.coef_\n",
    "w.tolist()"
   ]
  },
  {
   "cell_type": "code",
   "execution_count": 12,
   "id": "4cdfb37c",
   "metadata": {},
   "outputs": [],
   "source": [
    "b = lr.intercept_"
   ]
  },
  {
   "cell_type": "code",
   "execution_count": 13,
   "id": "2c3634f0",
   "metadata": {},
   "outputs": [],
   "source": [
    "pred_values = lr.predict(x_test)"
   ]
  },
  {
   "cell_type": "code",
   "execution_count": 14,
   "id": "8285cd27",
   "metadata": {},
   "outputs": [],
   "source": [
    "cost = y_test - pred_values\n",
    "cost = cost.tolist()[-1]"
   ]
  },
  {
   "cell_type": "code",
   "execution_count": null,
   "id": "ab2bac4f",
   "metadata": {},
   "outputs": [],
   "source": [
    "from tkinter import *\n",
    "root = Tk()\n",
    "root.title(\"Health Insurance Price Prediction\")\n",
    "root.geometry(\"500x600+470+170\")\n",
    "main_lbl = Label(root, text = \"HEALTH INSURANCE PRICE PREDICTION\", font = ('Arabic', 10)).pack(pady = 20)\n",
    "\n",
    "f1 = Frame(root)\n",
    "age_lbl = Label(f1, text = \"Age :\").pack(side = \"left\")\n",
    "ai = IntVar()\n",
    "age_ent = Scale(f1, from_ = 1, to=100, orient = HORIZONTAL, length = 140, variable = ai).pack(side = \"left\")\n",
    "f1.pack(side =\"top\", pady = 10)\n",
    "\n",
    "f2= Frame(root)\n",
    "gen_lbl = Label(f2, text = \"Gender :\").pack(side = \"left\")\n",
    "gi = IntVar()\n",
    "g1 = Radiobutton(f2,text = \"Female\", value = 1, variable = gi).pack(side = \"left\")\n",
    "g1 = Radiobutton(f2,text = \"Male\", value = 0, variable = gi).pack(side=\"left\")\n",
    "f2.pack(side =\"top\", pady = 10)\n",
    "\n",
    "f3 = Frame(root)\n",
    "smoker_lbl = Label(f3, text = \"Are you a smoker? :\").pack(side = \"left\")\n",
    "si =  IntVar()\n",
    "s1= Radiobutton(f3, text = \"Yes\", value = 1, variable = si).pack(side=\"left\")\n",
    "s2= Radiobutton(f3, text = \"No\", value = 0, variable = si).pack(side=\"left\")\n",
    "f3.pack(side =\"top\", pady = 10)\n",
    "\n",
    "f4 = Frame(root)\n",
    "bmi_lbl = Label(f4, text = \"Write your Body-Mass Index :\").pack(side = \"left\")\n",
    "bmi_ent = Entry(f4,width = 10)\n",
    "bmi_ent.pack(side= 'left')\n",
    "f4.pack(side =\"top\", pady = 10)\n",
    "\n",
    "f5 = Frame(root)\n",
    "child_lbl = Label(f5, text = \"No. of children you have : \").pack(side =\"left\")\n",
    "ci = IntVar()\n",
    "child_ent = Scale(f5, from_ = 0, to = 10, width = 20, orient = HORIZONTAL, variable = ci).pack(side= 'left')\n",
    "f5.pack(side =\"top\", pady = 10)\n",
    "\n",
    "f6 = Frame(root)\n",
    "reg_lbl = Label(f6, text = \"Select your region : \").pack(side= 'left')\n",
    "ri = IntVar()\n",
    "r1= Radiobutton(f6, text = \"SouthWest\", value = 1, variable= ri).pack(side='left')\n",
    "r2= Radiobutton(f6, text = \"NorthWest\", value = 0, variable= ri).pack(side='left')\n",
    "f6.pack(side= \"top\", pady = 10)\n",
    " \n",
    "gen_but= Button(root, text = \"PREDICT THE PRICE\", height=3, width = 20, command = lambda:(generate(w, ans,cost, ai, gi, bmi_ent, si, ci, ri, gen_lblc, gen_lbl))).pack(pady =20)\n",
    "gen_lblc = Label(root, text = \"\", font = (\"Arabic,15\"), fg = \"orange\")\n",
    "gen_lblc.pack()\n",
    "gen_lbl = Label(root, text = \"\", font = (\"Arabic,20\"), fg = \"red\")\n",
    "gen_lbl.pack()\n",
    "\n",
    "\n",
    "ans = b\n",
    "def generate(w, ans,cost, ai, gi, bmi_ent, si, ci, ri, gen_lblc, gen_lbl):\n",
    "    age = ai.get()\n",
    "    sex = gi.get()\n",
    "    bmi = bmi_ent.get()\n",
    "    smoker = si.get()\n",
    "    children = ci.get()\n",
    "    region = ri.get()\n",
    "    var = [age, sex, bmi, smoker, children, region]  \n",
    "    if bmi ==\"\":\n",
    "        gen_lblc.config(text = \"Please fill your body-mass index and try again!\")\n",
    "        \n",
    "    for i in range(len(var)):\n",
    "        ans = ans + w[i]*float(var[i])\n",
    "       \n",
    "    \n",
    "    an1=round(ans - cost,2)\n",
    "    an2=round(ans + cost, 2)\n",
    "    if an2<1:\n",
    "        gen_lblc.config(text = \"Sorry, According to the datails you have filled you can not get any Insurance.\")\n",
    "    else:\n",
    "        lbl = '''Insurance Price will be between :'''\n",
    "        gen_lblc.config(text = lbl)\n",
    "        gen_lbl.config(text = str(an1)+\"Rs to \" +str(an2) + \"Rs\")\n",
    "                   \n",
    "                   \n",
    "mainloop()      \n",
    " \n"
   ]
  },
  {
   "cell_type": "code",
   "execution_count": null,
   "id": "9bc3af0d",
   "metadata": {},
   "outputs": [],
   "source": []
  },
  {
   "cell_type": "code",
   "execution_count": 15,
   "id": "3406f30c",
   "metadata": {},
   "outputs": [
    {
     "name": "stdout",
     "output_type": "stream",
     "text": [
      "What is you age?34\n",
      "Write your gendermale\n",
      "write your bmi56\n",
      "are you a smoker?yes\n",
      "no. of children you have5\n",
      "write your region. southwest or northwestsouthwest\n",
      "Charges can be from 131232.79482555127 to 131674.8109688469\n"
     ]
    }
   ],
   "source": [
    "age = input(\"What is you age?\")\n",
    "sex = input(\"Write your gender\")\n",
    "bmi = input(\"write your bmi\")\n",
    "smoker = input(\"are you a smoker?\")\n",
    "children =input(\"no. of children you have\")\n",
    "region = input(\"write your region. southwest or northwest\")\n",
    "if sex ==\"female\":\n",
    "    sex = 1\n",
    "else:\n",
    "    sex= 0\n",
    "if smoker ==\"yes\":\n",
    "    smoker = 1\n",
    "else:\n",
    "    smoker = 0\n",
    "if region == \"southwest\":\n",
    "    region = 1\n",
    "else:\n",
    "    region = 0\n",
    "var = [age, sex, bmi, smoker, children, region]\n",
    "ans = b\n",
    "for i in range(len(var)):\n",
    "   ans = ans + w[i]*int(var[i])\n",
    "ans1 = round(ans - cost, 2)\n",
    "ans2 = round(ans + cost,2)\n",
    "print(f\"Charges can be from {round(ans1,2)} to {round(ans2,2)}\")\n",
    "\n",
    "   \n",
    "    "
   ]
  }
 ],
 "metadata": {
  "kernelspec": {
   "display_name": "Python 3 (ipykernel)",
   "language": "python",
   "name": "python3"
  },
  "language_info": {
   "codemirror_mode": {
    "name": "ipython",
    "version": 3
   },
   "file_extension": ".py",
   "mimetype": "text/x-python",
   "name": "python",
   "nbconvert_exporter": "python",
   "pygments_lexer": "ipython3",
   "version": "3.11.5"
  }
 },
 "nbformat": 4,
 "nbformat_minor": 5
}
